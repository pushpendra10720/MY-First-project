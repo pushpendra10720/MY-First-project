{
  "nbformat": 4,
  "nbformat_minor": 0,
  "metadata": {
    "colab": {
      "provenance": [],
      "authorship_tag": "ABX9TyNV/0AwGWRS4LQhABmFn4HZ",
      "include_colab_link": true
    },
    "kernelspec": {
      "name": "python3",
      "display_name": "Python 3"
    },
    "language_info": {
      "name": "python"
    }
  },
  "cells": [
    {
      "cell_type": "markdown",
      "metadata": {
        "id": "view-in-github",
        "colab_type": "text"
      },
      "source": [
        "<a href=\"https://colab.research.google.com/github/pushpendra10720/MY-First-project/blob/main/Dictionary.ipynb\" target=\"_parent\"><img src=\"https://colab.research.google.com/assets/colab-badge.svg\" alt=\"Open In Colab\"/></a>"
      ]
    },
    {
      "cell_type": "markdown",
      "source": [
        "**Dictionary**: It is a collection of data element  in the dictionary.\n",
        "1. Dictionary is always initialized by {}\n",
        "2. Dictionary is represents (key or Values)\n",
        "3. It does not contain duplicate key\n",
        "\n",
        "**Method of Dictionary:**\n",
        "\n",
        "1. a.item () = it returns a list of key values tupple\n",
        "2. a.key () = print all\n",
        "3. a.update () = update any data into the above dictionary"
      ],
      "metadata": {
        "id": "xdWIVN3K5ES9"
      }
    },
    {
      "cell_type": "code",
      "source": [
        "d={\n",
        "    \"Name\":\"Pushpendra Singh\",\n",
        "    \"Address\": \"Noida\",\n",
        "    \"Age\":\"25\",\n",
        "    \"Course\":\"B.Tech\"\n",
        "}\n",
        "print(d)"
      ],
      "metadata": {
        "colab": {
          "base_uri": "https://localhost:8080/"
        },
        "id": "tVuGFBL06smI",
        "outputId": "10c5ba92-cfe3-4737-8ada-1dcc25986206"
      },
      "execution_count": 2,
      "outputs": [
        {
          "output_type": "stream",
          "name": "stdout",
          "text": [
            "{'Name': 'Pushpendra Singh', 'Address': 'Noida', 'Age': '25', 'Course': 'B.Tech'}\n"
          ]
        }
      ]
    },
    {
      "cell_type": "markdown",
      "source": [],
      "metadata": {
        "id": "CYjICzJz-YXc"
      }
    },
    {
      "cell_type": "code",
      "source": [],
      "metadata": {
        "id": "dzs8hKB0_TsO"
      },
      "execution_count": null,
      "outputs": []
    },
    {
      "cell_type": "markdown",
      "source": [],
      "metadata": {
        "id": "GupuIuK9-YZK"
      }
    }
  ]
}