{
  "nbformat": 4,
  "nbformat_minor": 0,
  "metadata": {
    "colab": {
      "provenance": [],
      "authorship_tag": "ABX9TyMsuejT1u8yFJfgMC8K/cRd",
      "include_colab_link": true
    },
    "kernelspec": {
      "name": "python3",
      "display_name": "Python 3"
    },
    "language_info": {
      "name": "python"
    }
  },
  "cells": [
    {
      "cell_type": "markdown",
      "metadata": {
        "id": "view-in-github",
        "colab_type": "text"
      },
      "source": [
        "<a href=\"https://colab.research.google.com/github/pushpendra10720/MY-First-project/blob/main/LIST3_py.ipynb\" target=\"_parent\"><img src=\"https://colab.research.google.com/assets/colab-badge.svg\" alt=\"Open In Colab\"/></a>"
      ]
    },
    {
      "cell_type": "markdown",
      "source": [
        "TOPIC :LIST"
      ],
      "metadata": {
        "id": "GTE72C2MgaPT"
      }
    },
    {
      "cell_type": "markdown",
      "source": [
        "\n",
        "\n",
        "1. List  is a class  \n",
        "2. List is an iterable sequence\n",
        "3. List can store heterogeneous data\n",
        "4. List is mutable\n",
        "5. We can store list in squire brackets []\n",
        "6. List element are indexed\n",
        "\n",
        "\n",
        "#How to create a list object:\n",
        "Indexed Based\n",
        "\n",
        "\n",
        "\n",
        "\n",
        "\n",
        "\n",
        "\n",
        "\n"
      ],
      "metadata": {
        "id": "-efk7sawglQs"
      }
    },
    {
      "cell_type": "code",
      "source": [
        "Name =['pushpendra','ragav','vivek','pankaj']\n",
        "print(type(Name))\n",
        "print(Name[0])\n",
        "print(Name[1])\n",
        "print(Name[2])\n",
        "print(Name[3])\n",
        "print(Name[-1])\n",
        "print(Name[-2])\n",
        "print(Name[-3])\n",
        "print(Name[-4])\n",
        "print(Name)"
      ],
      "metadata": {
        "colab": {
          "base_uri": "https://localhost:8080/"
        },
        "id": "M4kQkigxiW6P",
        "outputId": "95421b14-4b0e-4761-d999-304e01fe77a8"
      },
      "execution_count": 6,
      "outputs": [
        {
          "output_type": "stream",
          "name": "stdout",
          "text": [
            "<class 'list'>\n",
            "pushpendra\n",
            "ragav\n",
            "vivek\n",
            "pankaj\n",
            "pankaj\n",
            "vivek\n",
            "ragav\n",
            "pushpendra\n",
            "['pushpendra', 'ragav', 'vivek', 'pankaj']\n"
          ]
        }
      ]
    },
    {
      "cell_type": "markdown",
      "source": [
        "Acessing Element in list :"
      ],
      "metadata": {
        "id": "6uWmqVIxipCR"
      }
    },
    {
      "cell_type": "code",
      "source": [],
      "metadata": {
        "id": "RXzcPSbrk3Q8"
      },
      "execution_count": null,
      "outputs": []
    }
  ]
}